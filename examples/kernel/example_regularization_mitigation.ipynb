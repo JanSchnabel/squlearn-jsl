{
 "cells": [
  {
   "attachments": {},
   "cell_type": "markdown",
   "metadata": {},
   "source": [
    "## Example - Usage of regularization and depolarizing noise mitigation options of quantum kernels\n",
    "\n",
    "This notebook demonstrates the use of the regularization option for both FQK and PQK and shows how to use depolarizing noise mitigation options, which is only meaningful for fidelity quantum kernels. The regularization and mitigation methods are based on the theory outlined in http://arxiv.org/pdf/2105.02276v1"
   ]
  },
  {
   "cell_type": "code",
   "execution_count": 3,
   "metadata": {},
   "outputs": [],
   "source": [
    "# necessary python and sQUlearn imports\n",
    "import numpy as np\n",
    "import matplotlib.pyplot as plt\n",
    "\n",
    "from squlearn.feature_map import QEKFeatureMap\n",
    "from squlearn.kernel import FidelityKernel, ProjectedQuantumKernel\n",
    "from squlearn.kernel import QKRR\n",
    "from squlearn.util import Executor"
   ]
  },
  {
   "cell_type": "markdown",
   "metadata": {},
   "source": [
    "##### Simple artificial data generation"
   ]
  },
  {
   "cell_type": "code",
   "execution_count": 2,
   "metadata": {},
   "outputs": [],
   "source": [
    "# generate some training and test data\n",
    "x = np.linspace(-0.8, 0.8, 20)\n",
    "x_fine = np.linspace(-0.9, 0.9, 200)\n",
    "y = np.sin(10.0 * x) * np.cos(np.exp(2 * x))"
   ]
  },
  {
   "cell_type": "markdown",
   "metadata": {},
   "source": [
    "##### Define the QEK feature map"
   ]
  },
  {
   "cell_type": "code",
   "execution_count": 12,
   "metadata": {},
   "outputs": [],
   "source": [
    "num_qubits = 10\n",
    "fmap = QEKFeatureMap(num_qubits, num_features=1, num_layers=2)"
   ]
  },
  {
   "cell_type": "markdown",
   "metadata": {},
   "source": [
    "##### Define the Executor()\n",
    "\n",
    "Since the effect of regularization as well as depolarizing noise mitigation techniques can only be demonstrated in the presence of noise, we perform qasm simulations in the following"
   ]
  },
  {
   "cell_type": "code",
   "execution_count": 4,
   "metadata": {},
   "outputs": [],
   "source": [
    "# Define the executor and set the desired number of shots\n",
    "executor = Executor(\"qasm_simulator\")\n",
    "executor.set_shots(1000)"
   ]
  },
  {
   "attachments": {},
   "cell_type": "markdown",
   "metadata": {},
   "source": [
    "##### Demonstrating regularization options in QKRR with FQK (takes about 30s)"
   ]
  },
  {
   "cell_type": "code",
   "execution_count": 17,
   "metadata": {},
   "outputs": [],
   "source": [
    "# Define the FQK\n",
    "qkernel = FidelityKernel(fmap, executor=executor, parameter_seed=0, regularization=\"thresholding\")\n",
    "# the alternative option would be 'tikhonov'\n",
    "\n",
    "# alternatively for PQK\n",
    "# pqk_kernel = ProjectedQuantumKernel(fmap, executor=executor, regularization=\"thresholding\")\n",
    "\n",
    "# Set the QKRR instance and with\n",
    "qkrr_inst = QKRR(quantum_kernel=qkernel, alpha=1e-1)\n",
    "qkrr_inst.fit(x.reshape(-1,1), y)\n",
    "y_pred = qkrr_inst.predict(x_fine.reshape(-1, 1))"
   ]
  },
  {
   "cell_type": "code",
   "execution_count": 21,
   "metadata": {},
   "outputs": [
    {
     "data": {
      "text/plain": [
       "[<matplotlib.lines.Line2D at 0x13b4d355180>]"
      ]
     },
     "execution_count": 21,
     "metadata": {},
     "output_type": "execute_result"
    },
    {
     "data": {
      "image/png": "[encoded data removed]",
      "text/plain": [
       "<Figure size 432x288 with 1 Axes>"
      ]
     },
     "metadata": {
      "needs_background": "light"
     },
     "output_type": "display_data"
    }
   ],
   "source": [
    "# Plot the results\n",
    "plt.plot(x, y, \"x\")\n",
    "plt.plot(x_fine, y_pred)"
   ]
  },
  {
   "attachments": {},
   "cell_type": "markdown",
   "metadata": {},
   "source": [
    "##### Demonstrating depolarizing noise mitigation for fidelity quantum kernels"
   ]
  },
  {
   "cell_type": "code",
   "execution_count": 7,
   "metadata": {},
   "outputs": [
    {
     "name": "stdout",
     "output_type": "stream",
     "text": [
      "WARNING: Advanced option. Do not use it within an squlearn.kernel.ml workflow\n"
     ]
    },
    {
     "data": {
      "text/plain": [
       "array([[ 1.00000000e+00,  9.73189442e-01,  9.03577691e-01,\n",
       "         8.06578161e-01,  6.95517490e-01,  5.47373472e-01,\n",
       "         4.42834309e-01,  3.61635503e-01,  2.52114649e-01,\n",
       "         1.77982964e-01,  1.34767434e-01,  7.58603868e-02,\n",
       "         6.11149738e-02,  4.61617296e-02,  2.11142628e-02,\n",
       "         3.67340880e-03,  2.11983209e-03, -4.08943582e-04,\n",
       "        -1.68596772e-03,  1.54095207e-03],\n",
       "       [ 9.73189442e-01,  1.00000000e+00,  9.63710369e-01,\n",
       "         8.88917490e-01,  7.99801847e-01,  6.84486967e-01,\n",
       "         5.62516578e-01,  4.75713515e-01,  3.64816516e-01,\n",
       "         2.62097092e-01,  1.95894998e-01,  1.22783561e-01,\n",
       "         9.63935673e-02,  5.10249951e-02,  3.25544003e-02,\n",
       "         1.95361005e-02,  8.93354692e-03,  1.35737214e-02,\n",
       "         4.90670495e-03, -1.38641994e-03],\n",
       "       [ 9.03577691e-01,  9.63710369e-01,  1.00000000e+00,\n",
       "         9.63245871e-01,  8.94180344e-01,  8.12764073e-01,\n",
       "         6.90634942e-01,  5.80878264e-01,  4.59249489e-01,\n",
       "         3.70342253e-01,  2.73653355e-01,  1.93530651e-01,\n",
       "         1.45041713e-01,  9.47325914e-02,  6.13577539e-02,\n",
       "         4.01291402e-02,  2.28278896e-02,  1.62256773e-02,\n",
       "         4.25938582e-03,  2.51973369e-03],\n",
       "       [ 8.06578161e-01,  8.88917490e-01,  9.63245871e-01,\n",
       "         1.00000000e+00,  9.58529742e-01,  9.05169449e-01,\n",
       "         8.19212576e-01,  6.95382397e-01,  5.82578131e-01,\n",
       "         4.93603786e-01,  3.96990887e-01,  2.87047287e-01,\n",
       "         2.01212405e-01,  1.40455672e-01,  1.01943925e-01,\n",
       "         7.39439041e-02,  3.71400508e-02,  1.98708258e-02,\n",
       "         5.44967577e-03,  5.44246846e-03],\n",
       "       [ 6.95517490e-01,  7.99801847e-01,  8.94180344e-01,\n",
       "         9.58529742e-01,  1.00000000e+00,  9.61400994e-01,\n",
       "         9.04884770e-01,  8.13564558e-01,  6.89950061e-01,\n",
       "         6.01665531e-01,  4.96931602e-01,  3.64503112e-01,\n",
       "         2.80415246e-01,  1.98495600e-01,  1.46593866e-01,\n",
       "         1.08134171e-01,  6.18560712e-02,  4.14411882e-02,\n",
       "         3.06774857e-02,  8.28974569e-03],\n",
       "       [ 5.47373472e-01,  6.84486967e-01,  8.12764073e-01,\n",
       "         9.05169449e-01,  9.61400994e-01,  1.00000000e+00,\n",
       "         9.59418329e-01,  8.98940109e-01,  8.17162284e-01,\n",
       "         7.31456963e-01,  6.11274709e-01,  4.87496223e-01,\n",
       "         3.83892372e-01,  2.70614059e-01,  1.98610268e-01,\n",
       "         1.46289007e-01,  8.16913458e-02,  6.10559449e-02,\n",
       "         3.50293546e-02,  2.56249262e-02],\n",
       "       [ 4.42834309e-01,  5.62516578e-01,  6.90634942e-01,\n",
       "         8.19212576e-01,  9.04884770e-01,  9.59418329e-01,\n",
       "         1.00000000e+00,  9.60260876e-01,  8.99267835e-01,\n",
       "         8.18348421e-01,  7.19832117e-01,  6.02513419e-01,\n",
       "         4.70693033e-01,  3.81877630e-01,  2.89101497e-01,\n",
       "         2.16719346e-01,  1.46480254e-01,  8.95828296e-02,\n",
       "         6.24077765e-02,  2.77048577e-02],\n",
       "       [ 3.61635503e-01,  4.75713515e-01,  5.80878264e-01,\n",
       "         6.95382397e-01,  8.13564558e-01,  8.98940109e-01,\n",
       "         9.60260876e-01,  1.00000000e+00,  9.64472996e-01,\n",
       "         9.01845790e-01,  8.25814833e-01,  7.17180743e-01,\n",
       "         5.99621017e-01,  4.89950967e-01,  3.77940492e-01,\n",
       "         2.83319034e-01,  1.95782410e-01,  1.30841391e-01,\n",
       "         1.06514669e-01,  6.21089905e-02],\n",
       "       [ 2.52114649e-01,  3.64816516e-01,  4.59249489e-01,\n",
       "         5.82578131e-01,  6.89950061e-01,  8.17162284e-01,\n",
       "         8.99267835e-01,  9.64472996e-01,  1.00000000e+00,\n",
       "         9.61059481e-01,  9.07495578e-01,  8.24435028e-01,\n",
       "         7.26190427e-01,  6.03142309e-01,  4.86880926e-01,\n",
       "         3.87114285e-01,  2.66907603e-01,  1.98334132e-01,\n",
       "         1.30694192e-01,  7.85501667e-02],\n",
       "       [ 1.77982964e-01,  2.62097092e-01,  3.70342253e-01,\n",
       "         4.93603786e-01,  6.01665531e-01,  7.31456963e-01,\n",
       "         8.18348421e-01,  9.01845790e-01,  9.61059481e-01,\n",
       "         1.00000000e+00,  9.69562932e-01,  8.97601546e-01,\n",
       "         8.41721097e-01,  7.31206403e-01,  6.06088244e-01,\n",
       "         4.94676010e-01,  3.44033066e-01,  2.68516409e-01,\n",
       "         1.87239961e-01,  1.29423225e-01],\n",
       "       [ 1.34767434e-01,  1.95894998e-01,  2.73653355e-01,\n",
       "         3.96990887e-01,  4.96931602e-01,  6.11274709e-01,\n",
       "         7.19832117e-01,  8.25814833e-01,  9.07495578e-01,\n",
       "         9.69562932e-01,  1.00000000e+00,  9.53988513e-01,\n",
       "         9.12159436e-01,  8.30119664e-01,  7.22845345e-01,\n",
       "         6.14502821e-01,  4.59155384e-01,  3.54452856e-01,\n",
       "         2.64844151e-01,  1.80413534e-01],\n",
       "       [ 7.58603868e-02,  1.22783561e-01,  1.93530651e-01,\n",
       "         2.87047287e-01,  3.64503112e-01,  4.87496223e-01,\n",
       "         6.02513419e-01,  7.17180743e-01,  8.24435028e-01,\n",
       "         8.97601546e-01,  9.53988513e-01,  1.00000000e+00,\n",
       "         9.52011125e-01,  9.08038820e-01,  8.12925536e-01,\n",
       "         7.10656812e-01,  6.02072270e-01,  4.60059443e-01,\n",
       "         3.34905039e-01,  2.53294699e-01],\n",
       "       [ 6.11149738e-02,  9.63935673e-02,  1.45041713e-01,\n",
       "         2.01212405e-01,  2.80415246e-01,  3.83892372e-01,\n",
       "         4.70693033e-01,  5.99621017e-01,  7.26190427e-01,\n",
       "         8.41721097e-01,  9.12159436e-01,  9.52011125e-01,\n",
       "         1.00000000e+00,  9.61535457e-01,  8.96439034e-01,\n",
       "         8.14823624e-01,  6.72404792e-01,  5.72313156e-01,\n",
       "         4.41130851e-01,  3.18014024e-01],\n",
       "       [ 4.61617296e-02,  5.10249951e-02,  9.47325914e-02,\n",
       "         1.40455672e-01,  1.98495600e-01,  2.70614059e-01,\n",
       "         3.81877630e-01,  4.89950967e-01,  6.03142309e-01,\n",
       "         7.31206403e-01,  8.30119664e-01,  9.08038820e-01,\n",
       "         9.61535457e-01,  1.00000000e+00,  9.64956596e-01,\n",
       "         9.05672241e-01,  8.04565412e-01,  6.89688721e-01,\n",
       "         5.77996804e-01,  4.34633443e-01],\n",
       "       [ 2.11142628e-02,  3.25544003e-02,  6.13577539e-02,\n",
       "         1.01943925e-01,  1.46593866e-01,  1.98610268e-01,\n",
       "         2.89101497e-01,  3.77940492e-01,  4.86880926e-01,\n",
       "         6.06088244e-01,  7.22845345e-01,  8.12925536e-01,\n",
       "         8.96439034e-01,  9.64956596e-01,  1.00000000e+00,\n",
       "         9.75458720e-01,  8.96212785e-01,  8.10136004e-01,\n",
       "         7.08614777e-01,  5.39602424e-01],\n",
       "       [ 3.67340880e-03,  1.95361005e-02,  4.01291402e-02,\n",
       "         7.39439041e-02,  1.08134171e-01,  1.46289007e-01,\n",
       "         2.16719346e-01,  2.83319034e-01,  3.87114285e-01,\n",
       "         4.94676010e-01,  6.14502821e-01,  7.10656812e-01,\n",
       "         8.14823624e-01,  9.05672241e-01,  9.75458720e-01,\n",
       "         1.00000000e+00,  9.53862240e-01,  9.05983127e-01,\n",
       "         8.18741953e-01,  6.66940148e-01],\n",
       "       [ 2.11983209e-03,  8.93354692e-03,  2.28278896e-02,\n",
       "         3.71400508e-02,  6.18560712e-02,  8.16913458e-02,\n",
       "         1.46480254e-01,  1.95782410e-01,  2.66907603e-01,\n",
       "         3.44033066e-01,  4.59155384e-01,  6.02072270e-01,\n",
       "         6.72404792e-01,  8.04565412e-01,  8.96212785e-01,\n",
       "         9.53862240e-01,  1.00000000e+00,  9.57662247e-01,\n",
       "         8.93661095e-01,  7.90727483e-01],\n",
       "       [-4.08943582e-04,  1.35737214e-02,  1.62256773e-02,\n",
       "         1.98708258e-02,  4.14411882e-02,  6.10559449e-02,\n",
       "         8.95828296e-02,  1.30841391e-01,  1.98334132e-01,\n",
       "         2.68516409e-01,  3.54452856e-01,  4.60059443e-01,\n",
       "         5.72313156e-01,  6.89688721e-01,  8.10136004e-01,\n",
       "         9.05983127e-01,  9.57662247e-01,  1.00000000e+00,\n",
       "         9.65636928e-01,  8.93031779e-01],\n",
       "       [-1.68596772e-03,  4.90670495e-03,  4.25938582e-03,\n",
       "         5.44967577e-03,  3.06774857e-02,  3.50293546e-02,\n",
       "         6.24077765e-02,  1.06514669e-01,  1.30694192e-01,\n",
       "         1.87239961e-01,  2.64844151e-01,  3.34905039e-01,\n",
       "         4.41130851e-01,  5.77996804e-01,  7.08614777e-01,\n",
       "         8.18741953e-01,  8.93661095e-01,  9.65636928e-01,\n",
       "         1.00000000e+00,  9.42212944e-01],\n",
       "       [ 1.54095207e-03, -1.38641994e-03,  2.51973369e-03,\n",
       "         5.44246846e-03,  8.28974569e-03,  2.56249262e-02,\n",
       "         2.77048577e-02,  6.21089905e-02,  7.85501667e-02,\n",
       "         1.29423225e-01,  1.80413534e-01,  2.53294699e-01,\n",
       "         3.18014024e-01,  4.34633443e-01,  5.39602424e-01,\n",
       "         6.66940148e-01,  7.90727483e-01,  8.93031779e-01,\n",
       "         9.42212944e-01,  1.00000000e+00]])"
      ]
     },
     "execution_count": 7,
     "metadata": {},
     "output_type": "execute_result"
    }
   ],
   "source": [
    "# Set the FQK with the option of mit_depol_noise\n",
    "# Since we are using only a qasm_simulator this option is in principal useless,\n",
    "# however, in this case we demonstrate the availability of this option and it's main effect,\n",
    "# i.e. restoring ones on the diagonal\n",
    "kernel_mit = FidelityKernel(\n",
    "    fmap, executor=executor, mit_depol_noise=\"msplit\", parameter_seed=10\n",
    ")  # the alternative option would be 'mmean'\n",
    "kernel_mit.evaluate(x.reshape(-1, 1))"
   ]
  },
  {
   "cell_type": "code",
   "execution_count": 8,
   "metadata": {},
   "outputs": [
    {
     "name": "stdout",
     "output_type": "stream",
     "text": [
      "[[ 1.00608320e+00  9.60552673e-01  9.08232124e-01  8.23261922e-01\n",
      "   6.95005660e-01  5.80918064e-01  4.22569957e-01  3.63654124e-01\n",
      "   2.49457191e-01  1.84207765e-01  1.29252625e-01  8.29574232e-02\n",
      "   5.20052795e-02  4.06506615e-02  1.88380681e-02  1.68131723e-02\n",
      "   9.20524224e-04  2.05447330e-03  1.41934389e-03  4.81922752e-04]\n",
      " [ 9.60552673e-01  1.01150726e+00  9.65017765e-01  9.12780885e-01\n",
      "   8.12357950e-01  7.15401169e-01  5.74036736e-01  4.71066846e-01\n",
      "   3.66221041e-01  2.64765059e-01  2.10571736e-01  1.16506673e-01\n",
      "   9.38368976e-02  6.71235251e-02  3.89243076e-02  2.12346095e-02\n",
      "   1.00260897e-02  3.49492403e-03 -6.85985958e-04  6.05155211e-06]\n",
      " [ 9.08232124e-01  9.65017765e-01  1.01614022e+00  9.78864226e-01\n",
      "   9.19387865e-01  8.23139312e-01  6.98175175e-01  5.92450975e-01\n",
      "   4.54689384e-01  3.81032872e-01  2.88366422e-01  1.87717450e-01\n",
      "   1.24854213e-01  1.06844687e-01  5.78595977e-02  4.38030458e-02\n",
      "   2.63606295e-02  1.46388061e-02  4.63455406e-03  3.63505137e-03]\n",
      " [ 8.23261922e-01  9.12780885e-01  9.78864226e-01  1.01081229e+00\n",
      "   9.78746758e-01  9.09529134e-01  8.26820106e-01  7.11846971e-01\n",
      "   5.87218709e-01  4.72790666e-01  3.76400110e-01  2.75249911e-01\n",
      "   1.93536095e-01  1.53785060e-01  9.78663149e-02  5.03517565e-02\n",
      "   4.29002119e-02  1.97049320e-02  1.48341319e-02  2.98565046e-03]\n",
      " [ 6.95005660e-01  8.12357950e-01  9.19387865e-01  9.78746758e-01\n",
      "   1.00627595e+00  9.71552159e-01  9.18685605e-01  8.19278855e-01\n",
      "   7.09310505e-01  6.06159044e-01  4.96007482e-01  3.75420026e-01\n",
      "   2.74282448e-01  2.12800091e-01  1.43277617e-01  8.52231802e-02\n",
      "   6.30848861e-02  3.79779558e-02  1.69928835e-02  1.09794342e-02]\n",
      " [ 5.80918064e-01  7.15401169e-01  8.23139312e-01  9.09529134e-01\n",
      "   9.71552159e-01  1.01571354e+00  9.71991293e-01  9.12667665e-01\n",
      "   8.30790604e-01  7.36275892e-01  6.00837533e-01  4.89561785e-01\n",
      "   3.80099914e-01  2.77705462e-01  2.12451152e-01  1.50499546e-01\n",
      "   9.98122920e-02  6.52912561e-02  3.26189912e-02  2.55664005e-02]\n",
      " [ 4.22569957e-01  5.74036736e-01  6.98175175e-01  8.26820106e-01\n",
      "   9.18685605e-01  9.71991293e-01  1.02322585e+00  9.78133058e-01\n",
      "   9.17206126e-01  8.34170857e-01  7.24584200e-01  6.07513367e-01\n",
      "   4.98679858e-01  4.03021129e-01  2.87690443e-01  1.98151655e-01\n",
      "   1.51204350e-01  8.55206510e-02  5.72173716e-02  3.26534077e-02]\n",
      " [ 3.63654124e-01  4.71066846e-01  5.92450975e-01  7.11846971e-01\n",
      "   8.19278855e-01  9.12667665e-01  9.78133058e-01  1.01082327e+00\n",
      "   9.82736497e-01  9.35510829e-01  8.33848290e-01  7.38350109e-01\n",
      "   6.13607718e-01  5.02432266e-01  3.84647251e-01  2.90804199e-01\n",
      "   2.00369116e-01  1.43341290e-01  8.64605364e-02  6.54195636e-02]\n",
      " [ 2.49457191e-01  3.66221041e-01  4.54689384e-01  5.87218709e-01\n",
      "   7.09310505e-01  8.30790604e-01  9.17206126e-01  9.82736497e-01\n",
      "   1.02197651e+00  9.74867598e-01  9.23393849e-01  8.47570209e-01\n",
      "   7.35967309e-01  6.19354741e-01  5.15687259e-01  3.99225137e-01\n",
      "   2.75135183e-01  2.10456201e-01  1.24346271e-01  8.68784860e-02]\n",
      " [ 1.84207765e-01  2.64765059e-01  3.81032872e-01  4.72790666e-01\n",
      "   6.06159044e-01  7.36275892e-01  8.34170857e-01  9.35510829e-01\n",
      "   9.74867598e-01  1.02791875e+00  9.78950099e-01  9.26832000e-01\n",
      "   8.31281222e-01  7.33284448e-01  5.91641490e-01  5.17238976e-01\n",
      "   3.71603786e-01  2.77678618e-01  1.89809047e-01  1.25186082e-01]\n",
      " [ 1.29252625e-01  2.10571736e-01  2.88366422e-01  3.76400110e-01\n",
      "   4.96007482e-01  6.00837533e-01  7.24584200e-01  8.33848290e-01\n",
      "   9.23393849e-01  9.78950099e-01  1.01540900e+00  9.77604136e-01\n",
      "   9.21578619e-01  8.45971648e-01  7.18785411e-01  6.23422886e-01\n",
      "   4.75978973e-01  3.74838594e-01  2.56821585e-01  1.67844846e-01]\n",
      " [ 8.29574232e-02  1.16506673e-01  1.87717450e-01  2.75249911e-01\n",
      "   3.75420026e-01  4.89561785e-01  6.07513367e-01  7.38350109e-01\n",
      "   8.47570209e-01  9.26832000e-01  9.77604136e-01  1.01398347e+00\n",
      "   9.75728592e-01  9.29340958e-01  8.31003320e-01  7.45311094e-01\n",
      "   5.98403642e-01  4.77739192e-01  3.68079352e-01  2.52082501e-01]\n",
      " [ 5.20052795e-02  9.38368976e-02  1.24854213e-01  1.93536095e-01\n",
      "   2.74282448e-01  3.80099914e-01  4.98679858e-01  6.13607718e-01\n",
      "   7.35967309e-01  8.31281222e-01  9.21578619e-01  9.75728592e-01\n",
      "   1.01309614e+00  9.86419034e-01  9.17831243e-01  8.38602088e-01\n",
      "   7.27133017e-01  5.78895591e-01  4.64458221e-01  3.32322267e-01]\n",
      " [ 4.06506615e-02  6.71235251e-02  1.06844687e-01  1.53785060e-01\n",
      "   2.12800091e-01  2.77705462e-01  4.03021129e-01  5.02432266e-01\n",
      "   6.19354741e-01  7.33284448e-01  8.45971648e-01  9.29340958e-01\n",
      "   9.86419034e-01  1.02660273e+00  9.69862242e-01  9.21395419e-01\n",
      "   8.34163601e-01  6.93970800e-01  6.02441386e-01  4.63643073e-01]\n",
      " [ 1.88380681e-02  3.89243076e-02  5.78595977e-02  9.78663149e-02\n",
      "   1.43277617e-01  2.12451152e-01  2.87690443e-01  3.84647251e-01\n",
      "   5.15687259e-01  5.91641490e-01  7.18785411e-01  8.31003320e-01\n",
      "   9.17831243e-01  9.69862242e-01  1.01833101e+00  9.75111392e-01\n",
      "   9.14123240e-01  8.12071882e-01  6.89966059e-01  5.65605475e-01]\n",
      " [ 1.68131723e-02  2.12346095e-02  4.38030458e-02  5.03517565e-02\n",
      "   8.52231802e-02  1.50499546e-01  1.98151655e-01  2.90804199e-01\n",
      "   3.99225137e-01  5.17238976e-01  6.23422886e-01  7.45311094e-01\n",
      "   8.38602088e-01  9.21395419e-01  9.75111392e-01  1.02133437e+00\n",
      "   9.80511183e-01  9.14392577e-01  8.20477778e-01  6.88872593e-01]\n",
      " [ 9.20524224e-04  1.00260897e-02  2.63606295e-02  4.29002119e-02\n",
      "   6.30848861e-02  9.98122920e-02  1.51204350e-01  2.00369116e-01\n",
      "   2.75135183e-01  3.71603786e-01  4.75978973e-01  5.98403642e-01\n",
      "   7.27133017e-01  8.34163601e-01  9.14123240e-01  9.80511183e-01\n",
      "   1.01998722e+00  9.71466144e-01  9.15788648e-01  8.00618744e-01]\n",
      " [ 2.05447330e-03  3.49492403e-03  1.46388061e-02  1.97049320e-02\n",
      "   3.79779558e-02  6.52912561e-02  8.55206510e-02  1.43341290e-01\n",
      "   2.10456201e-01  2.77678618e-01  3.74838594e-01  4.77739192e-01\n",
      "   5.78895591e-01  6.93970800e-01  8.12071882e-01  9.14392577e-01\n",
      "   9.71466144e-01  1.01657519e+00  9.71309288e-01  9.07124749e-01]\n",
      " [ 1.41934389e-03 -6.85985958e-04  4.63455406e-03  1.48341319e-02\n",
      "   1.69928835e-02  3.26189912e-02  5.72173716e-02  8.64605364e-02\n",
      "   1.24346271e-01  1.89809047e-01  2.56821585e-01  3.68079352e-01\n",
      "   4.64458221e-01  6.02441386e-01  6.89966059e-01  8.20477778e-01\n",
      "   9.15788648e-01  9.71309288e-01  1.01048728e+00  9.71543647e-01]\n",
      " [ 4.81922752e-04  6.05155211e-06  3.63505137e-03  2.98565046e-03\n",
      "   1.09794342e-02  2.55664005e-02  3.26534077e-02  6.54195636e-02\n",
      "   8.68784860e-02  1.25186082e-01  1.67844846e-01  2.52082501e-01\n",
      "   3.32322267e-01  4.63643073e-01  5.65605475e-01  6.88872593e-01\n",
      "   8.00618744e-01  9.07124749e-01  9.71543647e-01  1.00485190e+00]]\n"
     ]
    }
   ],
   "source": [
    "# Compare to the kernel without this option (subtracting identiy necessary due to inherent regularization of QKRR)\n",
    "print(qkrr_inst.k_train - 1e-1 * np.eye(np.shape(qkrr_inst.k_train)[0]))"
   ]
  }
 ],
 "metadata": {
  "kernelspec": {
   "display_name": "Python 3",
   "language": "python",
   "name": "python3"
  },
  "language_info": {
   "codemirror_mode": {
    "name": "ipython",
    "version": 3
   },
   "file_extension": ".py",
   "mimetype": "text/x-python",
   "name": "python",
   "nbconvert_exporter": "python",
   "pygments_lexer": "ipython3",
   "version": "3.10.10"
  },
  "orig_nbformat": 4
 },
 "nbformat": 4,
 "nbformat_minor": 2
}
